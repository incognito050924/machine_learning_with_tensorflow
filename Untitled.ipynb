{
 "cells": [
  {
   "cell_type": "code",
   "execution_count": 1,
   "metadata": {
    "collapsed": true
   },
   "outputs": [],
   "source": [
    "import tensorflow as tf\n",
    "from tensorflow.contrib import slim"
   ]
  },
  {
   "cell_type": "code",
   "execution_count": 22,
   "metadata": {},
   "outputs": [
    {
     "data": {
      "text/plain": [
       "['SaveSliceInfo',\n",
       " '_AsTensor',\n",
       " '_OverloadAllOperators',\n",
       " '_OverloadOperator',\n",
       " '_TensorConversionFunction',\n",
       " '__abs__',\n",
       " '__add__',\n",
       " '__and__',\n",
       " '__array_priority__',\n",
       " '__class__',\n",
       " '__delattr__',\n",
       " '__dict__',\n",
       " '__dir__',\n",
       " '__div__',\n",
       " '__doc__',\n",
       " '__eq__',\n",
       " '__floordiv__',\n",
       " '__format__',\n",
       " '__ge__',\n",
       " '__getattribute__',\n",
       " '__getitem__',\n",
       " '__gt__',\n",
       " '__hash__',\n",
       " '__init__',\n",
       " '__init_subclass__',\n",
       " '__invert__',\n",
       " '__iter__',\n",
       " '__le__',\n",
       " '__lt__',\n",
       " '__matmul__',\n",
       " '__mod__',\n",
       " '__module__',\n",
       " '__mul__',\n",
       " '__ne__',\n",
       " '__neg__',\n",
       " '__new__',\n",
       " '__or__',\n",
       " '__pow__',\n",
       " '__radd__',\n",
       " '__rand__',\n",
       " '__rdiv__',\n",
       " '__reduce__',\n",
       " '__reduce_ex__',\n",
       " '__repr__',\n",
       " '__rfloordiv__',\n",
       " '__rmatmul__',\n",
       " '__rmod__',\n",
       " '__rmul__',\n",
       " '__ror__',\n",
       " '__rpow__',\n",
       " '__rsub__',\n",
       " '__rtruediv__',\n",
       " '__rxor__',\n",
       " '__setattr__',\n",
       " '__sizeof__',\n",
       " '__str__',\n",
       " '__sub__',\n",
       " '__subclasshook__',\n",
       " '__truediv__',\n",
       " '__weakref__',\n",
       " '__xor__',\n",
       " '_as_graph_element',\n",
       " '_build_initializer_expr',\n",
       " '_find_initialized_value_for_variable',\n",
       " '_get_save_slice_info',\n",
       " '_init_from_args',\n",
       " '_init_from_proto',\n",
       " '_ref',\n",
       " '_set_save_slice_info',\n",
       " '_strided_slice_assign',\n",
       " 'assign',\n",
       " 'assign_add',\n",
       " 'assign_sub',\n",
       " 'count_up_to',\n",
       " 'device',\n",
       " 'dtype',\n",
       " 'eval',\n",
       " 'from_proto',\n",
       " 'get_shape',\n",
       " 'graph',\n",
       " 'initial_value',\n",
       " 'initialized_value',\n",
       " 'initializer',\n",
       " 'load',\n",
       " 'name',\n",
       " 'op',\n",
       " 'read_value',\n",
       " 'scatter_sub',\n",
       " 'set_shape',\n",
       " 'shape',\n",
       " 'to_proto',\n",
       " 'value']"
      ]
     },
     "execution_count": 22,
     "metadata": {},
     "output_type": "execute_result"
    }
   ],
   "source": [
    "dir(slim.variables.Variable)"
   ]
  },
  {
   "cell_type": "code",
   "execution_count": 24,
   "metadata": {},
   "outputs": [
    {
     "data": {
      "text/plain": [
       "['ACTIVATIONS',\n",
       " 'ASSET_FILEPATHS',\n",
       " 'BIASES',\n",
       " 'CONCATENATED_VARIABLES',\n",
       " 'COND_CONTEXT',\n",
       " 'EVAL_STEP',\n",
       " 'GLOBAL_STEP',\n",
       " 'GLOBAL_VARIABLES',\n",
       " 'INIT_OP',\n",
       " 'LOCAL_INIT_OP',\n",
       " 'LOCAL_RESOURCES',\n",
       " 'LOCAL_VARIABLES',\n",
       " 'LOSSES',\n",
       " 'MODEL_VARIABLES',\n",
       " 'MOVING_AVERAGE_VARIABLES',\n",
       " 'QUEUE_RUNNERS',\n",
       " 'READY_FOR_LOCAL_INIT_OP',\n",
       " 'READY_OP',\n",
       " 'REGULARIZATION_LOSSES',\n",
       " 'RESOURCES',\n",
       " 'SAVEABLE_OBJECTS',\n",
       " 'SAVERS',\n",
       " 'SUMMARIES',\n",
       " 'SUMMARY_OP',\n",
       " 'TABLE_INITIALIZERS',\n",
       " 'TRAINABLE_RESOURCE_VARIABLES',\n",
       " 'TRAINABLE_VARIABLES',\n",
       " 'TRAIN_OP',\n",
       " 'UPDATE_OPS',\n",
       " 'VARIABLES',\n",
       " 'WEIGHTS',\n",
       " 'WHILE_CONTEXT',\n",
       " '_STREAMING_MODEL_PORTS',\n",
       " '__class__',\n",
       " '__delattr__',\n",
       " '__dict__',\n",
       " '__dir__',\n",
       " '__doc__',\n",
       " '__eq__',\n",
       " '__format__',\n",
       " '__ge__',\n",
       " '__getattribute__',\n",
       " '__gt__',\n",
       " '__hash__',\n",
       " '__init__',\n",
       " '__init_subclass__',\n",
       " '__le__',\n",
       " '__lt__',\n",
       " '__module__',\n",
       " '__ne__',\n",
       " '__new__',\n",
       " '__reduce__',\n",
       " '__reduce_ex__',\n",
       " '__repr__',\n",
       " '__setattr__',\n",
       " '__sizeof__',\n",
       " '__str__',\n",
       " '__subclasshook__',\n",
       " '__weakref__']"
      ]
     },
     "execution_count": 24,
     "metadata": {},
     "output_type": "execute_result"
    }
   ],
   "source": [
    "dir(tf.GraphKeys)"
   ]
  },
  {
   "cell_type": "code",
   "execution_count": null,
   "metadata": {
    "collapsed": true
   },
   "outputs": [],
   "source": []
  }
 ],
 "metadata": {
  "kernelspec": {
   "display_name": "Python 3",
   "language": "python",
   "name": "python3"
  },
  "language_info": {
   "codemirror_mode": {
    "name": "ipython",
    "version": 3
   },
   "file_extension": ".py",
   "mimetype": "text/x-python",
   "name": "python",
   "nbconvert_exporter": "python",
   "pygments_lexer": "ipython3",
   "version": "3.6.1"
  }
 },
 "nbformat": 4,
 "nbformat_minor": 2
}
